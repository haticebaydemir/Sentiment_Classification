{
  "nbformat": 4,
  "nbformat_minor": 0,
  "metadata": {
    "colab": {
      "provenance": [],
      "collapsed_sections": [
        "dx_0NjzBX0ok",
        "_hCj2bdALtho",
        "fpTsPYw6L37E",
        "_6xVosG3MM98",
        "FoqeeJpSMSlH",
        "69LtYJzZMg-z",
        "KrnSmhfJMnwN",
        "HQju581KMwLM",
        "pYfLBe0rM28e"
      ],
      "authorship_tag": "ABX9TyNnAJpXg6DN6BgZPAoWoU0I",
      "include_colab_link": true
    },
    "kernelspec": {
      "name": "python3",
      "display_name": "Python 3"
    },
    "language_info": {
      "name": "python"
    }
  },
  "cells": [
    {
      "cell_type": "markdown",
      "metadata": {
        "id": "view-in-github",
        "colab_type": "text"
      },
      "source": [
        "<a href=\"https://colab.research.google.com/github/haticebaydemir/Sentiment_Classification/blob/main/Sentiment_Classification.ipynb\" target=\"_parent\"><img src=\"https://colab.research.google.com/assets/colab-badge.svg\" alt=\"Open In Colab\"/></a>"
      ]
    },
    {
      "cell_type": "markdown",
      "source": [
        "# Veri Seti Yükleme"
      ],
      "metadata": {
        "id": "dx_0NjzBX0ok"
      }
    },
    {
      "cell_type": "code",
      "source": [
        "import pandas as pd"
      ],
      "metadata": {
        "id": "PKaxES8fGVOF"
      },
      "execution_count": null,
      "outputs": []
    },
    {
      "cell_type": "code",
      "source": [
        "from google.colab import drive\n",
        "drive.mount('/content/drive')"
      ],
      "metadata": {
        "colab": {
          "base_uri": "https://localhost:8080/"
        },
        "id": "yXWvG_TyGk6A",
        "outputId": "451bb75c-2a3f-42f1-b36c-1fdddd2f355d"
      },
      "execution_count": null,
      "outputs": [
        {
          "output_type": "stream",
          "name": "stdout",
          "text": [
            "Drive already mounted at /content/drive; to attempt to forcibly remount, call drive.mount(\"/content/drive\", force_remount=True).\n"
          ]
        }
      ]
    },
    {
      "cell_type": "code",
      "source": [
        "import pandas as pd\n",
        "import zipfile\n",
        "import os\n",
        "\n",
        "# ZIP dosyasının yolu ve dosyaların çıkarılacağı dizin\n",
        "zip_dosya_yolu = '/content/drive/MyDrive/turkish-text-data/furki.zip'\n",
        "cikarma_dizini = '/content/drive/MyDrive/turkish-text-data/cikarilan/'\n",
        "\n",
        "# Dizini oluştur\n",
        "os.makedirs(cikarma_dizini, exist_ok=True)\n",
        "\n",
        "# ZIP dosyasını çıkar\n",
        "with zipfile.ZipFile(zip_dosya_yolu, 'r') as zip_ref:\n",
        "    zip_ref.extractall(cikarma_dizini)\n",
        "\n",
        "# Dosya yollarını belirle\n",
        "pozitif_dosya_yolu = os.path.join(cikarma_dizini, 'furki.pos')\n",
        "negatif_dosya_yolu = os.path.join(cikarma_dizini, 'furki.neg')\n",
        "\n",
        "# Pozitif yorumları yükle ve label ekle\n",
        "pozitif_df = pd.read_csv(pozitif_dosya_yolu, delimiter='\\t', header=None, names=['review'])\n",
        "pozitif_df['label'] = 'positive'\n",
        "\n",
        "# Negatif yorumları yükle ve label ekle\n",
        "negatif_df = pd.read_csv(negatif_dosya_yolu, delimiter='\\t', header=None, names=['review'])\n",
        "negatif_df['label'] = 'negative'\n",
        "\n",
        "# İki veri çerçevesini birleştir\n",
        "df = pd.concat([pozitif_df, negatif_df], ignore_index=True)\n",
        "\n",
        "# Sonuçları göster\n",
        "print(df.head())\n",
        "\n",
        "data = df\n",
        "print(data.head())"
      ],
      "metadata": {
        "id": "dXZ1IJc0KCCd",
        "colab": {
          "base_uri": "https://localhost:8080/"
        },
        "outputId": "7a488e4f-2faa-4d45-bfee-20b05198df3f"
      },
      "execution_count": null,
      "outputs": [
        {
          "output_type": "stream",
          "name": "stdout",
          "text": [
            "                                              review     label\n",
            "0                        fena değil paraya göre iyi.  positive\n",
            "1  ürün kaliteli ve çok kullanışlı kargo ya veril...  positive\n",
            "2  fiyat-performans karşılaştırması yaptığınızda ...  positive\n",
            "3                                  bu fiyata çok iyi  positive\n",
            "4               fiyat ve performans olarak gayet iyi  positive\n",
            "                                              review     label\n",
            "0                        fena değil paraya göre iyi.  positive\n",
            "1  ürün kaliteli ve çok kullanışlı kargo ya veril...  positive\n",
            "2  fiyat-performans karşılaştırması yaptığınızda ...  positive\n",
            "3                                  bu fiyata çok iyi  positive\n",
            "4               fiyat ve performans olarak gayet iyi  positive\n"
          ]
        }
      ]
    },
    {
      "cell_type": "code",
      "source": [
        "data['label'].value_counts()"
      ],
      "metadata": {
        "colab": {
          "base_uri": "https://localhost:8080/",
          "height": 178
        },
        "id": "gHSAtdnUK0Pa",
        "outputId": "20b12246-e16e-4a53-8796-e952ebee2458"
      },
      "execution_count": null,
      "outputs": [
        {
          "output_type": "execute_result",
          "data": {
            "text/plain": [
              "label\n",
              "positive    4500\n",
              "negative     499\n",
              "Name: count, dtype: int64"
            ],
            "text/html": [
              "<div>\n",
              "<style scoped>\n",
              "    .dataframe tbody tr th:only-of-type {\n",
              "        vertical-align: middle;\n",
              "    }\n",
              "\n",
              "    .dataframe tbody tr th {\n",
              "        vertical-align: top;\n",
              "    }\n",
              "\n",
              "    .dataframe thead th {\n",
              "        text-align: right;\n",
              "    }\n",
              "</style>\n",
              "<table border=\"1\" class=\"dataframe\">\n",
              "  <thead>\n",
              "    <tr style=\"text-align: right;\">\n",
              "      <th></th>\n",
              "      <th>count</th>\n",
              "    </tr>\n",
              "    <tr>\n",
              "      <th>label</th>\n",
              "      <th></th>\n",
              "    </tr>\n",
              "  </thead>\n",
              "  <tbody>\n",
              "    <tr>\n",
              "      <th>positive</th>\n",
              "      <td>4500</td>\n",
              "    </tr>\n",
              "    <tr>\n",
              "      <th>negative</th>\n",
              "      <td>499</td>\n",
              "    </tr>\n",
              "  </tbody>\n",
              "</table>\n",
              "</div><br><label><b>dtype:</b> int64</label>"
            ]
          },
          "metadata": {},
          "execution_count": 38
        }
      ]
    },
    {
      "cell_type": "markdown",
      "source": [
        "# Veri Seti Ön İşleme"
      ],
      "metadata": {
        "id": "_hCj2bdALtho"
      }
    },
    {
      "cell_type": "code",
      "source": [
        "import string\n",
        "import re\n",
        "import nltk\n",
        "from nltk.corpus import stopwords\n",
        "\n",
        "# NLTK veri kümesini indirin\n",
        "nltk.download('stopwords')\n",
        "\n",
        "noktalama = string.punctuation\n",
        "etkisiz = stopwords.words('turkish')\n",
        "print(noktalama)\n",
        "print(etkisiz)"
      ],
      "metadata": {
        "colab": {
          "base_uri": "https://localhost:8080/"
        },
        "id": "l3o8hspRLwSs",
        "outputId": "f56d85a8-0f61-4e10-9144-75cb8d854598"
      },
      "execution_count": null,
      "outputs": [
        {
          "output_type": "stream",
          "name": "stdout",
          "text": [
            "!\"#$%&'()*+,-./:;<=>?@[\\]^_`{|}~\n",
            "['acaba', 'ama', 'aslında', 'az', 'bazı', 'belki', 'biri', 'birkaç', 'birşey', 'biz', 'bu', 'çok', 'çünkü', 'da', 'daha', 'de', 'defa', 'diye', 'eğer', 'en', 'gibi', 'hem', 'hep', 'hepsi', 'her', 'hiç', 'için', 'ile', 'ise', 'kez', 'ki', 'kim', 'mı', 'mu', 'mü', 'nasıl', 'ne', 'neden', 'nerde', 'nerede', 'nereye', 'niçin', 'niye', 'o', 'sanki', 'şey', 'siz', 'şu', 'tüm', 've', 'veya', 'ya', 'yani']\n"
          ]
        },
        {
          "output_type": "stream",
          "name": "stderr",
          "text": [
            "[nltk_data] Downloading package stopwords to /root/nltk_data...\n",
            "[nltk_data]   Package stopwords is already up-to-date!\n"
          ]
        }
      ]
    },
    {
      "cell_type": "code",
      "source": [
        "for d in data['review'].head():\n",
        "  print(d+ '\\n-----------------')\n",
        "  #etkisiz kelimelerin atilmasi\n",
        "  temp = ''\n",
        "  for word in d.split():\n",
        "    if word not in etkisiz and not word.isnumeric():\n",
        "      temp += word + ' '\n",
        "  print(temp + '\\n****************')"
      ],
      "metadata": {
        "colab": {
          "base_uri": "https://localhost:8080/"
        },
        "id": "CmhajdiXLzIQ",
        "outputId": "1aca815e-badd-4e19-d4b0-864215509440"
      },
      "execution_count": null,
      "outputs": [
        {
          "output_type": "stream",
          "name": "stdout",
          "text": [
            "fena değil paraya göre iyi.\n",
            "-----------------\n",
            "fena değil paraya göre iyi. \n",
            "****************\n",
            "ürün kaliteli ve çok kullanışlı kargo ya verilmesi ve elime çabuk ulaşması da gayet başarılı idi\n",
            "-----------------\n",
            "ürün kaliteli kullanışlı kargo verilmesi elime çabuk ulaşması gayet başarılı idi \n",
            "****************\n",
            "fiyat-performans karşılaştırması yaptığınızda gayet iyi bir ürün. en önemlisi ısınma yapmıyor. \n",
            "-----------------\n",
            "fiyat-performans karşılaştırması yaptığınızda gayet iyi bir ürün. önemlisi ısınma yapmıyor. \n",
            "****************\n",
            "bu fiyata çok iyi\n",
            "-----------------\n",
            "fiyata iyi \n",
            "****************\n",
            "fiyat ve performans olarak gayet iyi\n",
            "-----------------\n",
            "fiyat performans olarak gayet iyi \n",
            "****************\n"
          ]
        }
      ]
    },
    {
      "cell_type": "code",
      "source": [
        "for d in data['review'].head():\n",
        "  print(d+ '\\n-----------------')\n",
        "\n",
        "  temp = ''\n",
        "  for word in d:\n",
        "    if word not in noktalama:\n",
        "      temp += word\n",
        "  print(temp + '\\n****************')\n",
        "  d = temp"
      ],
      "metadata": {
        "colab": {
          "base_uri": "https://localhost:8080/"
        },
        "id": "oDZaTx1FWOlf",
        "outputId": "ded1db25-3684-48d4-a5c6-a463f1471f16"
      },
      "execution_count": null,
      "outputs": [
        {
          "output_type": "stream",
          "name": "stdout",
          "text": [
            "fena değil paraya göre iyi.\n",
            "-----------------\n",
            "fena değil paraya göre iyi\n",
            "****************\n",
            "ürün kaliteli ve çok kullanışlı kargo ya verilmesi ve elime çabuk ulaşması da gayet başarılı idi\n",
            "-----------------\n",
            "ürün kaliteli ve çok kullanışlı kargo ya verilmesi ve elime çabuk ulaşması da gayet başarılı idi\n",
            "****************\n",
            "fiyat-performans karşılaştırması yaptığınızda gayet iyi bir ürün. en önemlisi ısınma yapmıyor. \n",
            "-----------------\n",
            "fiyatperformans karşılaştırması yaptığınızda gayet iyi bir ürün en önemlisi ısınma yapmıyor \n",
            "****************\n",
            "bu fiyata çok iyi\n",
            "-----------------\n",
            "bu fiyata çok iyi\n",
            "****************\n",
            "fiyat ve performans olarak gayet iyi\n",
            "-----------------\n",
            "fiyat ve performans olarak gayet iyi\n",
            "****************\n"
          ]
        }
      ]
    },
    {
      "cell_type": "markdown",
      "source": [
        "# Önişlenmiş Veri Seti"
      ],
      "metadata": {
        "id": "fpTsPYw6L37E"
      }
    },
    {
      "cell_type": "code",
      "source": [
        "data.to_csv(r'./cleaned.csv', index = False)"
      ],
      "metadata": {
        "id": "YMX5kaIlL6JW"
      },
      "execution_count": null,
      "outputs": []
    },
    {
      "cell_type": "code",
      "source": [
        "# Temizlenmiş veriyi yüklüyoruz\n",
        "import pandas as pd\n",
        "data = pd.read_csv('cleaned.csv', sep=\",\", names=['review', 'label'])\n",
        "print(data.head())"
      ],
      "metadata": {
        "colab": {
          "base_uri": "https://localhost:8080/"
        },
        "id": "KL5Oa_AyMAwA",
        "outputId": "a59f8f81-3abe-4ea9-acf1-47320fbf520a"
      },
      "execution_count": null,
      "outputs": [
        {
          "output_type": "stream",
          "name": "stdout",
          "text": [
            "                                              review     label\n",
            "0                                             review     label\n",
            "1                        fena değil paraya göre iyi.  positive\n",
            "2  ürün kaliteli ve çok kullanışlı kargo ya veril...  positive\n",
            "3  fiyat-performans karşılaştırması yaptığınızda ...  positive\n",
            "4                                  bu fiyata çok iyi  positive\n"
          ]
        }
      ]
    },
    {
      "cell_type": "code",
      "source": [
        "import nltk\n",
        "import string\n",
        "\n",
        "# Stopwords veri kümesinin zaten indirildiğini kontrol edin\n",
        "try:\n",
        "    stopwords = nltk.corpus.stopwords.words('turkish')\n",
        "except LookupError:\n",
        "    nltk.download('stopwords')\n",
        "    stopwords = nltk.corpus.stopwords.words('turkish')\n",
        "\n",
        "# Noktalama işaretlerini ve etkisiz kelimeleri alın\n",
        "noktalama = string.punctuation\n",
        "etkisiz = stopwords\n",
        "\n",
        "print(\"Noktalama işaretleri:\")\n",
        "print(noktalama)\n",
        "print(\"\\nTürkçe etkisiz kelimeler:\")\n",
        "print(etkisiz)\n"
      ],
      "metadata": {
        "colab": {
          "base_uri": "https://localhost:8080/"
        },
        "id": "S6FpHEaIMDN-",
        "outputId": "992f8f52-2f71-42af-9805-d60a68640670"
      },
      "execution_count": null,
      "outputs": [
        {
          "output_type": "stream",
          "name": "stdout",
          "text": [
            "Noktalama işaretleri:\n",
            "!\"#$%&'()*+,-./:;<=>?@[\\]^_`{|}~\n",
            "\n",
            "Türkçe etkisiz kelimeler:\n",
            "['acaba', 'ama', 'aslında', 'az', 'bazı', 'belki', 'biri', 'birkaç', 'birşey', 'biz', 'bu', 'çok', 'çünkü', 'da', 'daha', 'de', 'defa', 'diye', 'eğer', 'en', 'gibi', 'hem', 'hep', 'hepsi', 'her', 'hiç', 'için', 'ile', 'ise', 'kez', 'ki', 'kim', 'mı', 'mu', 'mü', 'nasıl', 'ne', 'neden', 'nerde', 'nerede', 'nereye', 'niçin', 'niye', 'o', 'sanki', 'şey', 'siz', 'şu', 'tüm', 've', 'veya', 'ya', 'yani']\n"
          ]
        }
      ]
    },
    {
      "cell_type": "markdown",
      "source": [
        "# Veri Setini Bölme"
      ],
      "metadata": {
        "id": "_6xVosG3MM98"
      }
    },
    {
      "cell_type": "code",
      "source": [
        "# Temizlenmiş veriyi train ve test kümelerine ayırıyoruz\n",
        "from sklearn.model_selection import train_test_split\n",
        "x_train, x_test, y_train, y_test = train_test_split(data['review'].values.astype('U'),\n",
        "                                                    data['label'].values.astype('U'), test_size=0.1, random_state=42)\n",
        "print(x_train.shape)\n",
        "print(x_test.shape)"
      ],
      "metadata": {
        "colab": {
          "base_uri": "https://localhost:8080/"
        },
        "id": "Z4vLcNOgMOBp",
        "outputId": "c43af11e-0668-4380-cf56-49be8cc64e53"
      },
      "execution_count": null,
      "outputs": [
        {
          "output_type": "stream",
          "name": "stdout",
          "text": [
            "(4500,)\n",
            "(500,)\n"
          ]
        }
      ]
    },
    {
      "cell_type": "markdown",
      "source": [
        "# Sayma Vektörünü Oluşturma"
      ],
      "metadata": {
        "id": "FoqeeJpSMSlH"
      }
    },
    {
      "cell_type": "code",
      "source": [
        "# Train kümesindeki cümlelerin sayma vektörlerini çıkarıyoruz\n",
        "from sklearn.feature_extraction.text import CountVectorizer\n",
        "count_vect = CountVectorizer()\n",
        "x_train_counts = count_vect.fit_transform(x_train)\n",
        "print(x_train_counts.shape)"
      ],
      "metadata": {
        "colab": {
          "base_uri": "https://localhost:8080/"
        },
        "id": "gUQ4HspvMP9B",
        "outputId": "1edf3c76-57ab-484d-b334-2b0354db9365"
      },
      "execution_count": null,
      "outputs": [
        {
          "output_type": "stream",
          "name": "stdout",
          "text": [
            "(4500, 11356)\n"
          ]
        }
      ]
    },
    {
      "cell_type": "markdown",
      "source": [
        "# TF*IDF Vektörü Oluşturma"
      ],
      "metadata": {
        "id": "69LtYJzZMg-z"
      }
    },
    {
      "cell_type": "code",
      "source": [
        "# Train kümesindeki cümlelerin TF*IDF vektörelrini sayma vektörlerinden oluşturuyoruz\n",
        "from sklearn.feature_extraction.text import TfidfTransformer\n",
        "tfidf_transformer = TfidfTransformer()\n",
        "x_train_tfidf = tfidf_transformer.fit_transform(x_train_counts)\n",
        "print(x_train_tfidf.shape)"
      ],
      "metadata": {
        "colab": {
          "base_uri": "https://localhost:8080/"
        },
        "id": "fUIVFeELMaXp",
        "outputId": "e6940633-d318-4410-c124-50de546ee412"
      },
      "execution_count": null,
      "outputs": [
        {
          "output_type": "stream",
          "name": "stdout",
          "text": [
            "(4500, 11356)\n"
          ]
        }
      ]
    },
    {
      "cell_type": "markdown",
      "source": [
        "# Naive Bayes Model Eğitimi"
      ],
      "metadata": {
        "id": "KrnSmhfJMnwN"
      }
    },
    {
      "cell_type": "code",
      "source": [
        "# Çok modlu Niave Bayes sınıflandırıcı eğitiyoruz.\n",
        "from sklearn.naive_bayes import MultinomialNB\n",
        "clf = MultinomialNB().fit(x_train_tfidf, y_train)\n",
        "x_test_counts = count_vect.transform(x_test)\n",
        "x_test_tfidf = tfidf_transformer.transform(x_test_counts)"
      ],
      "metadata": {
        "id": "-h67N8y0MiEg"
      },
      "execution_count": null,
      "outputs": []
    },
    {
      "cell_type": "markdown",
      "source": [
        "# Model Performansı Ölçme"
      ],
      "metadata": {
        "id": "HQju581KMwLM"
      }
    },
    {
      "cell_type": "code",
      "source": [
        "# Sınıflandırıcı ile test seti üzerinde tahminleme yapıyoruz\n",
        "y_pred = clf.predict(x_test_tfidf)\n",
        "for review, sentiment in zip(x_test[:5], y_pred[:]):\n",
        "  print('%r => %s' % (review, sentiment))"
      ],
      "metadata": {
        "colab": {
          "base_uri": "https://localhost:8080/"
        },
        "id": "ZXifyqvuMrMj",
        "outputId": "2fdf8c94-ed63-442b-ec27-6c1b2dedc6a7"
      },
      "execution_count": null,
      "outputs": [
        {
          "output_type": "stream",
          "name": "stdout",
          "text": [
            "'en uygun fiyat ve hızlı teslimat, kargoda bedava. teşekkürler.' => positive\n",
            "'bu fiyata bu yazıcı gayet güzel ve kullanışlı. renkli ve siyah beyaz kartuşuyla geliyor. bilgisayara bağlama kablosu yok içinde' => positive\n",
            "'sipariş verdikten çok kısa bir süre sonra ürün adresime ulaştı. bu kadar iyi bir cihaz olabileceğini tahmin etmemiştim. hızlı ve kaliteli baskı alıyor. kurulumu kolay, tasarımı güzel, en önemlisi fiyat / performans olarak tüketici dostu.  tavsiye ediyorum.' => positive\n",
            "'yaklaşık bir senedir hepsiburadadan prima aylik paket aliyorum herhangi bir sıkıntı yoktu son günlerde sızdırma sıkıntısi ile karşılaşmaktayiz yorumlardan da baktığım kadarıyla son günlerde herkes bu durumdan rahatsız.  hepsiburada.com herzamaki gibi ucuzluk ve zamaninda kargosuyla ilgili bir sıkıntı yok. ..' => positive\n",
            "'urun tartisilmasiz en iyisi. tek rakibi kendisi. kendi modelleri yani. bir modelinden daha iyisi diger bir  modeli :) uygun fiyat , kaliteli urun , tavsiye ederim ..' => positive\n"
          ]
        }
      ]
    },
    {
      "cell_type": "markdown",
      "source": [
        "# Test Sonuçları"
      ],
      "metadata": {
        "id": "pYfLBe0rM28e"
      }
    },
    {
      "cell_type": "code",
      "source": [
        "# Performans sonuçları\n",
        "from sklearn.metrics import accuracy_score\n",
        "print(accuracy_score(y_test, y_pred))"
      ],
      "metadata": {
        "colab": {
          "base_uri": "https://localhost:8080/"
        },
        "id": "2fMlFeUhM37a",
        "outputId": "252966c4-7c86-47ba-b73a-904cc3c0c2c0"
      },
      "execution_count": null,
      "outputs": [
        {
          "output_type": "stream",
          "name": "stdout",
          "text": [
            "0.908\n"
          ]
        }
      ]
    }
  ]
}